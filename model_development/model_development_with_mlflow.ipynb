{
 "cells": [
  {
   "cell_type": "code",
   "execution_count": 15,
   "metadata": {},
   "outputs": [],
   "source": [
    "import pandas as pd\n",
    "import numpy as np\n",
    "import os\n",
    "from sklearn.model_selection import train_test_split\n",
    "from sklearn.ensemble import RandomForestRegressor\n",
    "from sklearn.metrics import mean_squared_error, mean_absolute_error, r2_score\n",
    "from urllib.parse import urlparse\n",
    "from mlflow.tracking import MlflowClient\n",
    "import mlflow.sklearn\n",
    "from mlflow.store.artifact.runs_artifact_repo import RunsArtifactRepository"
   ]
  },
  {
   "cell_type": "code",
   "execution_count": 16,
   "metadata": {},
   "outputs": [
    {
     "data": {
      "text/html": [
       "<div>\n",
       "<style scoped>\n",
       "    .dataframe tbody tr th:only-of-type {\n",
       "        vertical-align: middle;\n",
       "    }\n",
       "\n",
       "    .dataframe tbody tr th {\n",
       "        vertical-align: top;\n",
       "    }\n",
       "\n",
       "    .dataframe thead th {\n",
       "        text-align: right;\n",
       "    }\n",
       "</style>\n",
       "<table border=\"1\" class=\"dataframe\">\n",
       "  <thead>\n",
       "    <tr style=\"text-align: right;\">\n",
       "      <th></th>\n",
       "      <th>manufacturer</th>\n",
       "      <th>memory</th>\n",
       "      <th>ram</th>\n",
       "      <th>screen_size</th>\n",
       "      <th>power</th>\n",
       "      <th>front_camera</th>\n",
       "      <th>rc1</th>\n",
       "      <th>rc3</th>\n",
       "      <th>rc5</th>\n",
       "      <th>rc7</th>\n",
       "      <th>price</th>\n",
       "    </tr>\n",
       "  </thead>\n",
       "  <tbody>\n",
       "    <tr>\n",
       "      <th>0</th>\n",
       "      <td>Samsung</td>\n",
       "      <td>64.0</td>\n",
       "      <td>4.0</td>\n",
       "      <td>6.50</td>\n",
       "      <td>5000.0</td>\n",
       "      <td>8.0</td>\n",
       "      <td>48.0</td>\n",
       "      <td>2.0</td>\n",
       "      <td>2.0</td>\n",
       "      <td>2.0</td>\n",
       "      <td>2.999</td>\n",
       "    </tr>\n",
       "    <tr>\n",
       "      <th>1</th>\n",
       "      <td>Samsung</td>\n",
       "      <td>128.0</td>\n",
       "      <td>4.0</td>\n",
       "      <td>6.50</td>\n",
       "      <td>5000.0</td>\n",
       "      <td>8.0</td>\n",
       "      <td>48.0</td>\n",
       "      <td>2.0</td>\n",
       "      <td>2.0</td>\n",
       "      <td>2.0</td>\n",
       "      <td>3.249</td>\n",
       "    </tr>\n",
       "    <tr>\n",
       "      <th>2</th>\n",
       "      <td>Oppo</td>\n",
       "      <td>64.0</td>\n",
       "      <td>4.0</td>\n",
       "      <td>6.52</td>\n",
       "      <td>4230.0</td>\n",
       "      <td>8.0</td>\n",
       "      <td>13.0</td>\n",
       "      <td>2.0</td>\n",
       "      <td>2.0</td>\n",
       "      <td>0.0</td>\n",
       "      <td>2.749</td>\n",
       "    </tr>\n",
       "    <tr>\n",
       "      <th>3</th>\n",
       "      <td>Oppo</td>\n",
       "      <td>128.0</td>\n",
       "      <td>8.0</td>\n",
       "      <td>6.40</td>\n",
       "      <td>4310.0</td>\n",
       "      <td>32.0</td>\n",
       "      <td>48.0</td>\n",
       "      <td>8.0</td>\n",
       "      <td>2.0</td>\n",
       "      <td>2.0</td>\n",
       "      <td>4.655</td>\n",
       "    </tr>\n",
       "    <tr>\n",
       "      <th>4</th>\n",
       "      <td>Oppo</td>\n",
       "      <td>128.0</td>\n",
       "      <td>4.0</td>\n",
       "      <td>6.43</td>\n",
       "      <td>5000.0</td>\n",
       "      <td>16.0</td>\n",
       "      <td>48.0</td>\n",
       "      <td>2.0</td>\n",
       "      <td>0.0</td>\n",
       "      <td>0.0</td>\n",
       "      <td>3.984</td>\n",
       "    </tr>\n",
       "  </tbody>\n",
       "</table>\n",
       "</div>"
      ],
      "text/plain": [
       "  manufacturer  memory  ram  screen_size   power  front_camera   rc1  rc3  \\\n",
       "0      Samsung    64.0  4.0         6.50  5000.0           8.0  48.0  2.0   \n",
       "1      Samsung   128.0  4.0         6.50  5000.0           8.0  48.0  2.0   \n",
       "2         Oppo    64.0  4.0         6.52  4230.0           8.0  13.0  2.0   \n",
       "3         Oppo   128.0  8.0         6.40  4310.0          32.0  48.0  8.0   \n",
       "4         Oppo   128.0  4.0         6.43  5000.0          16.0  48.0  2.0   \n",
       "\n",
       "   rc5  rc7  price  \n",
       "0  2.0  2.0  2.999  \n",
       "1  2.0  2.0  3.249  \n",
       "2  2.0  0.0  2.749  \n",
       "3  2.0  2.0  4.655  \n",
       "4  0.0  0.0  3.984  "
      ]
     },
     "execution_count": 16,
     "metadata": {},
     "output_type": "execute_result"
    }
   ],
   "source": [
    "# read data\n",
    "df_origin = pd.read_csv(\"https://raw.githubusercontent.com/KuserOguzHan/mlops_1/main/hepsiburada.csv.csv\")\n",
    "df_origin.head()"
   ]
  },
  {
   "cell_type": "code",
   "execution_count": 17,
   "metadata": {},
   "outputs": [],
   "source": [
    "df = df_origin.drop([\"manufacturer\"], axis=1)"
   ]
  },
  {
   "cell_type": "code",
   "execution_count": 18,
   "metadata": {},
   "outputs": [
    {
     "data": {
      "text/html": [
       "<div>\n",
       "<style scoped>\n",
       "    .dataframe tbody tr th:only-of-type {\n",
       "        vertical-align: middle;\n",
       "    }\n",
       "\n",
       "    .dataframe tbody tr th {\n",
       "        vertical-align: top;\n",
       "    }\n",
       "\n",
       "    .dataframe thead th {\n",
       "        text-align: right;\n",
       "    }\n",
       "</style>\n",
       "<table border=\"1\" class=\"dataframe\">\n",
       "  <thead>\n",
       "    <tr style=\"text-align: right;\">\n",
       "      <th></th>\n",
       "      <th>memory</th>\n",
       "      <th>ram</th>\n",
       "      <th>screen_size</th>\n",
       "      <th>power</th>\n",
       "      <th>front_camera</th>\n",
       "      <th>rc1</th>\n",
       "      <th>rc3</th>\n",
       "      <th>rc5</th>\n",
       "      <th>rc7</th>\n",
       "      <th>price</th>\n",
       "    </tr>\n",
       "  </thead>\n",
       "  <tbody>\n",
       "    <tr>\n",
       "      <th>0</th>\n",
       "      <td>64.0</td>\n",
       "      <td>4.0</td>\n",
       "      <td>6.50</td>\n",
       "      <td>5000.0</td>\n",
       "      <td>8.0</td>\n",
       "      <td>48.0</td>\n",
       "      <td>2.0</td>\n",
       "      <td>2.0</td>\n",
       "      <td>2.0</td>\n",
       "      <td>2.999</td>\n",
       "    </tr>\n",
       "    <tr>\n",
       "      <th>1</th>\n",
       "      <td>128.0</td>\n",
       "      <td>4.0</td>\n",
       "      <td>6.50</td>\n",
       "      <td>5000.0</td>\n",
       "      <td>8.0</td>\n",
       "      <td>48.0</td>\n",
       "      <td>2.0</td>\n",
       "      <td>2.0</td>\n",
       "      <td>2.0</td>\n",
       "      <td>3.249</td>\n",
       "    </tr>\n",
       "    <tr>\n",
       "      <th>2</th>\n",
       "      <td>64.0</td>\n",
       "      <td>4.0</td>\n",
       "      <td>6.52</td>\n",
       "      <td>4230.0</td>\n",
       "      <td>8.0</td>\n",
       "      <td>13.0</td>\n",
       "      <td>2.0</td>\n",
       "      <td>2.0</td>\n",
       "      <td>0.0</td>\n",
       "      <td>2.749</td>\n",
       "    </tr>\n",
       "    <tr>\n",
       "      <th>3</th>\n",
       "      <td>128.0</td>\n",
       "      <td>8.0</td>\n",
       "      <td>6.40</td>\n",
       "      <td>4310.0</td>\n",
       "      <td>32.0</td>\n",
       "      <td>48.0</td>\n",
       "      <td>8.0</td>\n",
       "      <td>2.0</td>\n",
       "      <td>2.0</td>\n",
       "      <td>4.655</td>\n",
       "    </tr>\n",
       "    <tr>\n",
       "      <th>4</th>\n",
       "      <td>128.0</td>\n",
       "      <td>4.0</td>\n",
       "      <td>6.43</td>\n",
       "      <td>5000.0</td>\n",
       "      <td>16.0</td>\n",
       "      <td>48.0</td>\n",
       "      <td>2.0</td>\n",
       "      <td>0.0</td>\n",
       "      <td>0.0</td>\n",
       "      <td>3.984</td>\n",
       "    </tr>\n",
       "  </tbody>\n",
       "</table>\n",
       "</div>"
      ],
      "text/plain": [
       "   memory  ram  screen_size   power  front_camera   rc1  rc3  rc5  rc7  price\n",
       "0    64.0  4.0         6.50  5000.0           8.0  48.0  2.0  2.0  2.0  2.999\n",
       "1   128.0  4.0         6.50  5000.0           8.0  48.0  2.0  2.0  2.0  3.249\n",
       "2    64.0  4.0         6.52  4230.0           8.0  13.0  2.0  2.0  0.0  2.749\n",
       "3   128.0  8.0         6.40  4310.0          32.0  48.0  8.0  2.0  2.0  4.655\n",
       "4   128.0  4.0         6.43  5000.0          16.0  48.0  2.0  0.0  0.0  3.984"
      ]
     },
     "execution_count": 18,
     "metadata": {},
     "output_type": "execute_result"
    }
   ],
   "source": [
    "df.head()"
   ]
  },
  {
   "cell_type": "code",
   "execution_count": 19,
   "metadata": {},
   "outputs": [
    {
     "name": "stdout",
     "output_type": "stream",
     "text": [
      "<class 'pandas.core.frame.DataFrame'>\n",
      "RangeIndex: 1122 entries, 0 to 1121\n",
      "Data columns (total 10 columns):\n",
      " #   Column        Non-Null Count  Dtype  \n",
      "---  ------        --------------  -----  \n",
      " 0   memory        1122 non-null   float64\n",
      " 1   ram           1122 non-null   float64\n",
      " 2   screen_size   1122 non-null   float64\n",
      " 3   power         1122 non-null   float64\n",
      " 4   front_camera  1122 non-null   float64\n",
      " 5   rc1           1122 non-null   float64\n",
      " 6   rc3           1122 non-null   float64\n",
      " 7   rc5           1122 non-null   float64\n",
      " 8   rc7           1122 non-null   float64\n",
      " 9   price         1122 non-null   float64\n",
      "dtypes: float64(10)\n",
      "memory usage: 87.8 KB\n"
     ]
    }
   ],
   "source": [
    "df.info()"
   ]
  },
  {
   "cell_type": "code",
   "execution_count": 20,
   "metadata": {},
   "outputs": [
    {
     "name": "stdout",
     "output_type": "stream",
     "text": [
      "(1122, 9)\n",
      "[[6.40e+01 4.00e+00 6.50e+00 5.00e+03 8.00e+00 4.80e+01 2.00e+00 2.00e+00\n",
      "  2.00e+00]\n",
      " [1.28e+02 4.00e+00 6.50e+00 5.00e+03 8.00e+00 4.80e+01 2.00e+00 2.00e+00\n",
      "  2.00e+00]\n",
      " [6.40e+01 4.00e+00 6.52e+00 4.23e+03 8.00e+00 1.30e+01 2.00e+00 2.00e+00\n",
      "  0.00e+00]]\n"
     ]
    }
   ],
   "source": [
    "# Feature matrix\n",
    "X = df.iloc[:, 0:-1].values\n",
    "print(X.shape)\n",
    "print(X[:3])"
   ]
  },
  {
   "cell_type": "code",
   "execution_count": 21,
   "metadata": {},
   "outputs": [
    {
     "name": "stdout",
     "output_type": "stream",
     "text": [
      "(1122,)\n",
      "0    2.999\n",
      "1    3.249\n",
      "2    2.749\n",
      "3    4.655\n",
      "4    3.984\n",
      "5    5.349\n",
      "Name: price, dtype: float64\n"
     ]
    }
   ],
   "source": [
    "# Output variable\n",
    "y = df.iloc[:, -1]\n",
    "print(y.shape)\n",
    "print(y[:6])"
   ]
  },
  {
   "cell_type": "code",
   "execution_count": 22,
   "metadata": {},
   "outputs": [],
   "source": [
    "# split test train\n",
    "from sklearn.model_selection import train_test_split"
   ]
  },
  {
   "cell_type": "code",
   "execution_count": 23,
   "metadata": {},
   "outputs": [],
   "source": [
    "X_train, X_test, y_train, y_test = train_test_split(X, y, test_size=0.33, random_state=42)"
   ]
  },
  {
   "attachments": {},
   "cell_type": "markdown",
   "metadata": {},
   "source": [
    "MLFLOW"
   ]
  },
  {
   "cell_type": "code",
   "execution_count": 24,
   "metadata": {},
   "outputs": [],
   "source": [
    "os.environ['MLFLOW_TRACKING_URI'] = 'http://localhost:5000/'\n",
    "os.environ['MLFLOW_S3_ENDPOINT_URL'] = 'http://localhost:9000/'"
   ]
  },
  {
   "cell_type": "code",
   "execution_count": 25,
   "metadata": {},
   "outputs": [],
   "source": [
    "def eval_metrics(actual, pred):\n",
    "    rmse = np.sqrt(mean_squared_error(actual, pred))\n",
    "    mae = mean_absolute_error(actual, pred)\n",
    "    r2 = r2_score(actual, pred)\n",
    "    return rmse, mae, r2"
   ]
  },
  {
   "cell_type": "code",
   "execution_count": 26,
   "metadata": {},
   "outputs": [],
   "source": [
    "# Error_1: If you encounter \"experiment name\" error, you have to alter \"experiment_name\"\n",
    "\n",
    "experiment_name = \"FastAPI with MLflow_1\"\n",
    "mlflow.set_experiment(experiment_name)\n",
    "\n",
    "registered_model_name=\"hepsiburadaRFModel\""
   ]
  },
  {
   "cell_type": "code",
   "execution_count": 27,
   "metadata": {},
   "outputs": [],
   "source": [
    "number_of_trees=200"
   ]
  },
  {
   "cell_type": "code",
   "execution_count": 28,
   "metadata": {},
   "outputs": [
    {
     "name": "stdout",
     "output_type": "stream",
     "text": [
      "Random Forest model number of trees: 200\n",
      "  RMSE: 1.4476128566874127\n",
      "  MAE: 0.5707388547447533\n",
      "  R2: 0.9287894569397817\n"
     ]
    },
    {
     "name": "stderr",
     "output_type": "stream",
     "text": [
      "Registered model 'hepsiburadaRFModel' already exists. Creating a new version of this model...\n",
      "2023/03/09 14:41:33 INFO mlflow.tracking._model_registry.client: Waiting up to 300 seconds for model version to finish creation.                     Model name: hepsiburadaRFModel, version 6\n",
      "Created version '6' of model 'hepsiburadaRFModel'.\n"
     ]
    }
   ],
   "source": [
    "with mlflow.start_run(run_name=\"with-reg-rf-sklearn\") as run:\n",
    "        estimator = RandomForestRegressor(n_estimators=number_of_trees)\n",
    "        estimator.fit(X_train, y_train)\n",
    "\n",
    "        y_pred = estimator.predict(X_test)\n",
    "\n",
    "        (rmse, mae, r2) = eval_metrics(y_test, y_pred)\n",
    "\n",
    "        print(f\"Random Forest model number of trees: {number_of_trees}\")\n",
    "        print(\"  RMSE: %s\" % rmse)\n",
    "        print(\"  MAE: %s\" % mae)\n",
    "        print(\"  R2: %s\" % r2)\n",
    "\n",
    "        mlflow.log_param(\"n_estimators\", number_of_trees)\n",
    "        mlflow.log_metric(\"rmse\", rmse)\n",
    "        mlflow.log_metric(\"r2\", r2)\n",
    "        mlflow.log_metric(\"mae\", mae)\n",
    "        \n",
    "        tracking_url_type_store = urlparse(mlflow.get_tracking_uri()).scheme\n",
    "\n",
    "        # Model registry does not work with file store\n",
    "        if tracking_url_type_store != \"file\":\n",
    "\n",
    "            # Register the model\n",
    "            # There are other ways to use the Model Registry, which depends on the use case,\n",
    "            # please refer to the doc for more information:\n",
    "            # https://mlflow.org/docs/latest/model-registry.html#api-workflow\n",
    "            mlflow.sklearn.log_model(estimator, \"model\", registered_model_name=registered_model_name)\n",
    "        else:\n",
    "            mlflow.sklearn.log_model(estimator, \"model\")"
   ]
  }
 ],
 "metadata": {
  "kernelspec": {
   "display_name": "new_7",
   "language": "python",
   "name": "python3"
  },
  "language_info": {
   "codemirror_mode": {
    "name": "ipython",
    "version": 3
   },
   "file_extension": ".py",
   "mimetype": "text/x-python",
   "name": "python",
   "nbconvert_exporter": "python",
   "pygments_lexer": "ipython3",
   "version": "3.9.16"
  },
  "orig_nbformat": 4,
  "vscode": {
   "interpreter": {
    "hash": "d8aafbdf95a4e4913abc5207b5b2ede876f5a841c3f2b64a0d266c1c17fd8019"
   }
  }
 },
 "nbformat": 4,
 "nbformat_minor": 2
}
